{
 "cells": [
  {
   "cell_type": "code",
   "execution_count": 1,
   "id": "90c246d1",
   "metadata": {},
   "outputs": [],
   "source": [
    "import numpy as np\n",
    "from scipy import stats\n",
    "import matplotlib.pyplot as plt\n",
    "%matplotlib inline\n",
    "import random\n",
    "from tqdm import tqdm\n",
    "import pandas as pd\n",
    "plt.style.use('ggplot')\n",
    "from PIL import Image"
   ]
  },
  {
   "cell_type": "code",
   "execution_count": 2,
   "id": "f222892f",
   "metadata": {},
   "outputs": [],
   "source": [
    "data = pd.read_csv('a_b_testing.csv')"
   ]
  },
  {
   "cell_type": "code",
   "execution_count": 23,
   "id": "2f1fcbe0",
   "metadata": {},
   "outputs": [
    {
     "data": {
      "text/plain": [
       "0    2303\n",
       "1    1697\n",
       "Name: converted, dtype: int64"
      ]
     },
     "execution_count": 23,
     "metadata": {},
     "output_type": "execute_result"
    }
   ],
   "source": [
    "data['converted'].value_counts()"
   ]
  },
  {
   "cell_type": "code",
   "execution_count": 24,
   "id": "d16fce16",
   "metadata": {},
   "outputs": [
    {
     "data": {
      "text/plain": [
       "A    2037\n",
       "B    1963\n",
       "Name: group, dtype: int64"
      ]
     },
     "execution_count": 24,
     "metadata": {},
     "output_type": "execute_result"
    }
   ],
   "source": [
    "data['group'].value_counts()"
   ]
  },
  {
   "cell_type": "code",
   "execution_count": 25,
   "id": "269f29df",
   "metadata": {},
   "outputs": [
    {
     "data": {
      "text/plain": [
       "1198"
      ]
     },
     "execution_count": 25,
     "metadata": {},
     "output_type": "execute_result"
    }
   ],
   "source": [
    "len(data[(data['converted']==0)&(data['group']=='A')])"
   ]
  },
  {
   "cell_type": "code",
   "execution_count": 74,
   "id": "6c094a5a",
   "metadata": {},
   "outputs": [
    {
     "data": {
      "text/plain": [
       "2037"
      ]
     },
     "execution_count": 74,
     "metadata": {},
     "output_type": "execute_result"
    }
   ],
   "source": [
    "n = len(data[(data['group']=='A')])\n",
    "n"
   ]
  },
  {
   "cell_type": "code",
   "execution_count": 75,
   "id": "a2579c4f",
   "metadata": {},
   "outputs": [
    {
     "data": {
      "text/plain": [
       "1963"
      ]
     },
     "execution_count": 75,
     "metadata": {},
     "output_type": "execute_result"
    }
   ],
   "source": [
    "m = len(data[(data['group']=='B')])\n",
    "m"
   ]
  },
  {
   "cell_type": "code",
   "execution_count": 66,
   "id": "e280a882",
   "metadata": {},
   "outputs": [
    {
     "data": {
      "text/plain": [
       "1.959963984540054"
      ]
     },
     "execution_count": 66,
     "metadata": {},
     "output_type": "execute_result"
    }
   ],
   "source": [
    "z_value = stats.norm.ppf(q = 0.975)  \n",
    "z_value"
   ]
  },
  {
   "cell_type": "code",
   "execution_count": 45,
   "id": "809e15e9",
   "metadata": {},
   "outputs": [
    {
     "data": {
      "text/plain": [
       "0.41"
      ]
     },
     "execution_count": 45,
     "metadata": {},
     "output_type": "execute_result"
    }
   ],
   "source": [
    "p = len(data[(data['converted']==1)&(data['group']=='A')])/n\n",
    "np.round(p,2)"
   ]
  },
  {
   "cell_type": "code",
   "execution_count": 47,
   "id": "08d7b8c1",
   "metadata": {},
   "outputs": [],
   "source": [
    "var = np.sqrt((p*(1-p)/n))"
   ]
  },
  {
   "cell_type": "code",
   "execution_count": 48,
   "id": "f10b50de",
   "metadata": {},
   "outputs": [],
   "source": [
    "a = z_value * var"
   ]
  },
  {
   "cell_type": "code",
   "execution_count": 49,
   "id": "114850e1",
   "metadata": {},
   "outputs": [],
   "source": [
    "interval = (p-a,p+a)"
   ]
  },
  {
   "cell_type": "code",
   "execution_count": 51,
   "id": "3faacec8",
   "metadata": {},
   "outputs": [],
   "source": [
    "answer1 = ','.join([str(round(i,2)) for i in interval])"
   ]
  },
  {
   "cell_type": "code",
   "execution_count": 52,
   "id": "5ee17b37",
   "metadata": {},
   "outputs": [
    {
     "data": {
      "text/plain": [
       "'0.39,0.43'"
      ]
     },
     "execution_count": 52,
     "metadata": {},
     "output_type": "execute_result"
    }
   ],
   "source": [
    "answer1"
   ]
  },
  {
   "cell_type": "code",
   "execution_count": 76,
   "id": "3775fed3",
   "metadata": {},
   "outputs": [
    {
     "data": {
      "text/plain": [
       "0.4118802160039273"
      ]
     },
     "execution_count": 76,
     "metadata": {},
     "output_type": "execute_result"
    }
   ],
   "source": [
    "p_x = len(data[(data['converted']==1)&(data['group']=='A')])/n\n",
    "p_x"
   ]
  },
  {
   "cell_type": "code",
   "execution_count": 77,
   "id": "f6a33344",
   "metadata": {},
   "outputs": [
    {
     "data": {
      "text/plain": [
       "0.4370860927152318"
      ]
     },
     "execution_count": 77,
     "metadata": {},
     "output_type": "execute_result"
    }
   ],
   "source": [
    "p_y = len(data[(data['converted']==1)&(data['group']=='B')])/m\n",
    "p_y"
   ]
  },
  {
   "cell_type": "code",
   "execution_count": 79,
   "id": "7bb48c80",
   "metadata": {},
   "outputs": [
    {
     "data": {
      "text/plain": [
       "-1.6127911643120085"
      ]
     },
     "execution_count": 79,
     "metadata": {},
     "output_type": "execute_result"
    }
   ],
   "source": [
    "answer2 = (p_x - p_y) / np.sqrt( p_x * (1 - p_x ) / n + p_y * ( 1 - p_y) / m)\n",
    "answer2"
   ]
  },
  {
   "cell_type": "code",
   "execution_count": 80,
   "id": "01dfb602",
   "metadata": {},
   "outputs": [],
   "source": [
    "from scipy.stats import ttest_ind"
   ]
  },
  {
   "cell_type": "code",
   "execution_count": 82,
   "id": "036b2252",
   "metadata": {},
   "outputs": [],
   "source": [
    "X = data[(data['group']=='A')]['converted']\n",
    "Y = data[(data['group']=='B')]['converted']"
   ]
  },
  {
   "cell_type": "code",
   "execution_count": 84,
   "id": "904d7d2c",
   "metadata": {},
   "outputs": [],
   "source": [
    "answer3 = stats.ttest_ind(X, Y, equal_var=False)"
   ]
  },
  {
   "cell_type": "code",
   "execution_count": 88,
   "id": "d63f8a5e",
   "metadata": {},
   "outputs": [
    {
     "data": {
      "text/plain": [
       "Ttest_indResult(statistic=-1.6123875817242772, pvalue=0.10695671235201251)"
      ]
     },
     "execution_count": 88,
     "metadata": {},
     "output_type": "execute_result"
    }
   ],
   "source": [
    "answer3"
   ]
  },
  {
   "cell_type": "code",
   "execution_count": null,
   "id": "9c70fd77",
   "metadata": {},
   "outputs": [],
   "source": []
  }
 ],
 "metadata": {
  "kernelspec": {
   "display_name": "Python 3",
   "language": "python",
   "name": "python3"
  },
  "language_info": {
   "codemirror_mode": {
    "name": "ipython",
    "version": 3
   },
   "file_extension": ".py",
   "mimetype": "text/x-python",
   "name": "python",
   "nbconvert_exporter": "python",
   "pygments_lexer": "ipython3",
   "version": "3.6.13"
  }
 },
 "nbformat": 4,
 "nbformat_minor": 5
}
