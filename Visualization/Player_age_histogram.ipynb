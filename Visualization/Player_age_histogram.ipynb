{
 "cells": [
  {
   "cell_type": "code",
   "execution_count": 1,
   "id": "f511cf23",
   "metadata": {},
   "outputs": [],
   "source": [
    "import pandas as pd"
   ]
  },
  {
   "cell_type": "code",
   "execution_count": 2,
   "id": "8ba30c35",
   "metadata": {},
   "outputs": [],
   "source": [
    "PlayerPersonalData = pd.read_csv('PlayerPersonalData.csv', low_memory=False)"
   ]
  },
  {
   "cell_type": "code",
   "execution_count": 3,
   "id": "5fa7d273",
   "metadata": {},
   "outputs": [],
   "source": [
    "import matplotlib.pyplot as plt"
   ]
  },
  {
   "cell_type": "markdown",
   "id": "059782d8",
   "metadata": {},
   "source": [
    "Гистограмма возраста указывает на доминирующий возраст и особенности распределения"
   ]
  },
  {
   "cell_type": "code",
   "execution_count": 4,
   "id": "ba62317b",
   "metadata": {},
   "outputs": [
    {
     "data": {
      "text/plain": [
       "([<matplotlib.axis.XTick at 0x1ba3e5c8240>,\n",
       "  <matplotlib.axis.XTick at 0x1ba3e5bcdd8>,\n",
       "  <matplotlib.axis.XTick at 0x1ba3ec80588>,\n",
       "  <matplotlib.axis.XTick at 0x1ba3ecb0588>,\n",
       "  <matplotlib.axis.XTick at 0x1ba3ecb0a20>,\n",
       "  <matplotlib.axis.XTick at 0x1ba3ecb0eb8>,\n",
       "  <matplotlib.axis.XTick at 0x1ba3ecc1390>,\n",
       "  <matplotlib.axis.XTick at 0x1ba3ecc1828>,\n",
       "  <matplotlib.axis.XTick at 0x1ba3ecc1cc0>,\n",
       "  <matplotlib.axis.XTick at 0x1ba3e5bca58>,\n",
       "  <matplotlib.axis.XTick at 0x1ba3ecc9198>,\n",
       "  <matplotlib.axis.XTick at 0x1ba3ecc96a0>,\n",
       "  <matplotlib.axis.XTick at 0x1ba3ecc9b38>,\n",
       "  <matplotlib.axis.XTick at 0x1ba3ece2048>,\n",
       "  <matplotlib.axis.XTick at 0x1ba3ece24a8>],\n",
       " [Text(0, 0, ''),\n",
       "  Text(0, 0, ''),\n",
       "  Text(0, 0, ''),\n",
       "  Text(0, 0, ''),\n",
       "  Text(0, 0, ''),\n",
       "  Text(0, 0, ''),\n",
       "  Text(0, 0, ''),\n",
       "  Text(0, 0, ''),\n",
       "  Text(0, 0, ''),\n",
       "  Text(0, 0, ''),\n",
       "  Text(0, 0, ''),\n",
       "  Text(0, 0, ''),\n",
       "  Text(0, 0, ''),\n",
       "  Text(0, 0, ''),\n",
       "  Text(0, 0, '')])"
      ]
     },
     "execution_count": 4,
     "metadata": {},
     "output_type": "execute_result"
    },
    {
     "data": {
      "image/png": "[encoded data removed]",
      "text/plain": [
       "<Figure size 432x288 with 1 Axes>"
      ]
     },
     "metadata": {
      "needs_background": "light"
     },
     "output_type": "display_data"
    }
   ],
   "source": [
    "PlayerPersonalData.Age.plot.hist()\n",
    "plt.legend()\n",
    "plt.title('Player age histogram', fontdict={'fontsize': 20})\n",
    "plt.xlabel('Number of players')\n",
    "plt.ylabel('Age')\n",
    "plt.xticks(range(15, 45, 2))"
   ]
  },
  {
   "cell_type": "markdown",
   "id": "920f0eb5",
   "metadata": {},
   "source": [
    "Из графика видно, что наибольшее колличество игроков в возрасте 20-25 лет"
   ]
  },
  {
   "cell_type": "code",
   "execution_count": null,
   "id": "f3f0c508",
   "metadata": {},
   "outputs": [],
   "source": []
  }
 ],
 "metadata": {
  "kernelspec": {
   "display_name": "Python 3",
   "language": "python",
   "name": "python3"
  },
  "language_info": {
   "codemirror_mode": {
    "name": "ipython",
    "version": 3
   },
   "file_extension": ".py",
   "mimetype": "text/x-python",
   "name": "python",
   "nbconvert_exporter": "python",
   "pygments_lexer": "ipython3",
   "version": "3.6.13"
  }
 },
 "nbformat": 4,
 "nbformat_minor": 5
}
